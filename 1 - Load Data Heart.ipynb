{
 "cells": [
  {
   "cell_type": "markdown",
   "id": "71220f39",
   "metadata": {},
   "source": [
    "<h2> Get data from individual JSON files and store in one pandas DataFrame"
   ]
  },
  {
   "cell_type": "markdown",
   "id": "3a0d1de3",
   "metadata": {},
   "source": [
    "Loop through all the heartrate JSON files in the folder and load into one pandas DataFrame. Then save out to a csv"
   ]
  },
  {
   "cell_type": "code",
   "execution_count": 1,
   "id": "23ee5d3e",
   "metadata": {},
   "outputs": [],
   "source": [
    "import warnings\n",
    "warnings.filterwarnings('ignore')"
   ]
  },
  {
   "cell_type": "markdown",
   "id": "ec0c4c8e",
   "metadata": {},
   "source": [
    "Need to loop through each json file , convert the value field to a string and remove the text about confidence\n",
    "Load all the files into on pandas DataFrame called dfall"
   ]
  },
  {
   "cell_type": "code",
   "execution_count": null,
   "id": "56ec22c8",
   "metadata": {},
   "outputs": [],
   "source": [
    "import os\n",
    "import json\n",
    "import pandas as pd\n",
    "dfall = pd.DataFrame()\n",
    "\n",
    "directory = r'C:\\Users\\darki\\Documents\\Jupyter\\Fitbit Analysis\\HeartData'\n",
    "for entry in os.scandir(directory):\n",
    "    if (entry.path.endswith(\".json\") and entry.is_file()):\n",
    "            df = pd.read_json (entry.path)\n",
    "            df['value'] = df['value'].apply(lambda _: str(_))\n",
    "            df['value'] = df['value'].str.replace(\"{'bpm': \",\"\")\n",
    "            df['value'] = df['value'].str.replace(\", 'confidence': 0}\",\"\")\n",
    "            df['value'] = df['value'].str.replace(\", 'confidence': 1}\",\"\")\n",
    "            df['value'] = df['value'].str.replace(\", 'confidence': 2}\",\"\")\n",
    "            df['value'] = df['value'].str.replace(\", 'confidence': 3}\",\"\")\n",
    "            dfall = dfall.append(df)\n",
    "            \n",
    "            "
   ]
  },
  {
   "cell_type": "code",
   "execution_count": null,
   "id": "7bd29360",
   "metadata": {},
   "outputs": [],
   "source": [
    "# view counts in the dfall DataFrame\n",
    "dfall.count()"
   ]
  },
  {
   "cell_type": "code",
   "execution_count": null,
   "id": "4a250878",
   "metadata": {},
   "outputs": [],
   "source": [
    "# re-index to remove numeric key and set it as dateTime field\n",
    "dfall.set_index(\"dateTime\")"
   ]
  },
  {
   "cell_type": "code",
   "execution_count": 5,
   "id": "041a7f8f",
   "metadata": {},
   "outputs": [],
   "source": [
    "# output to csv\n",
    "dfall.to_csv ('Heart.csv', index = None)"
   ]
  }
 ],
 "metadata": {
  "kernelspec": {
   "display_name": "Python 3 (ipykernel)",
   "language": "python",
   "name": "python3"
  },
  "language_info": {
   "codemirror_mode": {
    "name": "ipython",
    "version": 3
   },
   "file_extension": ".py",
   "mimetype": "text/x-python",
   "name": "python",
   "nbconvert_exporter": "python",
   "pygments_lexer": "ipython3",
   "version": "3.9.7"
  }
 },
 "nbformat": 4,
 "nbformat_minor": 5
}
