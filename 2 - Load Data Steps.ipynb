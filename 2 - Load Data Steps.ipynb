{
 "cells": [
  {
   "cell_type": "markdown",
   "id": "71220f39",
   "metadata": {},
   "source": [
    "<h2> Get data from individual JSON files and store in one pandas DataFrame"
   ]
  },
  {
   "cell_type": "markdown",
   "id": "3a0d1de3",
   "metadata": {},
   "source": [
    "Loop through all the Step data JSON files in the folder and load into one pandas DataFrame. Then save out to a csv"
   ]
  },
  {
   "cell_type": "code",
   "execution_count": 5,
   "id": "56ec22c8",
   "metadata": {},
   "outputs": [],
   "source": [
    "import os\n",
    "import json\n",
    "import pandas as pd\n",
    "dfall = pd.DataFrame()\n",
    "\n",
    "directory = r'C:\\Users\\darki\\Documents\\Jupyter\\Fitbit Analysis\\StepData'\n",
    "for entry in os.scandir(directory):\n",
    "    if (entry.path.endswith(\".json\") and entry.is_file()):\n",
    "            df = pd.read_json (entry.path)\n",
    "            dfall = dfall.append(df)\n",
    "            \n",
    "            "
   ]
  },
  {
   "cell_type": "code",
   "execution_count": 6,
   "id": "7bd29360",
   "metadata": {},
   "outputs": [
    {
     "data": {
      "text/plain": [
       "dateTime    168421\n",
       "value       168421\n",
       "dtype: int64"
      ]
     },
     "execution_count": 6,
     "metadata": {},
     "output_type": "execute_result"
    }
   ],
   "source": [
    "#view counts in the dfall DataFrame\n",
    "dfall.count()"
   ]
  },
  {
   "cell_type": "code",
   "execution_count": 7,
   "id": "4a250878",
   "metadata": {},
   "outputs": [
    {
     "data": {
      "text/html": [
       "<div>\n",
       "<style scoped>\n",
       "    .dataframe tbody tr th:only-of-type {\n",
       "        vertical-align: middle;\n",
       "    }\n",
       "\n",
       "    .dataframe tbody tr th {\n",
       "        vertical-align: top;\n",
       "    }\n",
       "\n",
       "    .dataframe thead th {\n",
       "        text-align: right;\n",
       "    }\n",
       "</style>\n",
       "<table border=\"1\" class=\"dataframe\">\n",
       "  <thead>\n",
       "    <tr style=\"text-align: right;\">\n",
       "      <th></th>\n",
       "      <th>value</th>\n",
       "    </tr>\n",
       "    <tr>\n",
       "      <th>dateTime</th>\n",
       "      <th></th>\n",
       "    </tr>\n",
       "  </thead>\n",
       "  <tbody>\n",
       "    <tr>\n",
       "      <th>2021-01-13 00:03:00</th>\n",
       "      <td>0</td>\n",
       "    </tr>\n",
       "    <tr>\n",
       "      <th>2021-01-13 00:11:00</th>\n",
       "      <td>0</td>\n",
       "    </tr>\n",
       "    <tr>\n",
       "      <th>2021-01-13 00:12:00</th>\n",
       "      <td>450</td>\n",
       "    </tr>\n",
       "    <tr>\n",
       "      <th>2021-01-13 00:13:00</th>\n",
       "      <td>0</td>\n",
       "    </tr>\n",
       "    <tr>\n",
       "      <th>2021-01-13 00:14:00</th>\n",
       "      <td>0</td>\n",
       "    </tr>\n",
       "    <tr>\n",
       "      <th>...</th>\n",
       "      <td>...</td>\n",
       "    </tr>\n",
       "    <tr>\n",
       "      <th>2021-10-20 12:09:00</th>\n",
       "      <td>0</td>\n",
       "    </tr>\n",
       "    <tr>\n",
       "      <th>2021-10-20 12:11:00</th>\n",
       "      <td>0</td>\n",
       "    </tr>\n",
       "    <tr>\n",
       "      <th>2021-10-20 12:12:00</th>\n",
       "      <td>0</td>\n",
       "    </tr>\n",
       "    <tr>\n",
       "      <th>2021-10-20 12:13:00</th>\n",
       "      <td>0</td>\n",
       "    </tr>\n",
       "    <tr>\n",
       "      <th>2021-10-20 12:14:00</th>\n",
       "      <td>0</td>\n",
       "    </tr>\n",
       "  </tbody>\n",
       "</table>\n",
       "<p>168421 rows × 1 columns</p>\n",
       "</div>"
      ],
      "text/plain": [
       "                     value\n",
       "dateTime                  \n",
       "2021-01-13 00:03:00      0\n",
       "2021-01-13 00:11:00      0\n",
       "2021-01-13 00:12:00    450\n",
       "2021-01-13 00:13:00      0\n",
       "2021-01-13 00:14:00      0\n",
       "...                    ...\n",
       "2021-10-20 12:09:00      0\n",
       "2021-10-20 12:11:00      0\n",
       "2021-10-20 12:12:00      0\n",
       "2021-10-20 12:13:00      0\n",
       "2021-10-20 12:14:00      0\n",
       "\n",
       "[168421 rows x 1 columns]"
      ]
     },
     "execution_count": 7,
     "metadata": {},
     "output_type": "execute_result"
    }
   ],
   "source": [
    "#re-index to remove key\n",
    "dfall.set_index(\"dateTime\")"
   ]
  },
  {
   "cell_type": "code",
   "execution_count": 11,
   "id": "58149bd3",
   "metadata": {},
   "outputs": [],
   "source": [
    "# a lot of values are 0 we dont need them\n",
    "dfall = dfall[dfall[\"value\"] != 0]"
   ]
  },
  {
   "cell_type": "code",
   "execution_count": 12,
   "id": "4cd0d22d",
   "metadata": {},
   "outputs": [
    {
     "data": {
      "text/plain": [
       "dateTime    59204\n",
       "value       59204\n",
       "dtype: int64"
      ]
     },
     "execution_count": 12,
     "metadata": {},
     "output_type": "execute_result"
    }
   ],
   "source": [
    "#check count again\n",
    "dfall.count()"
   ]
  },
  {
   "cell_type": "code",
   "execution_count": 13,
   "id": "4907680d",
   "metadata": {},
   "outputs": [],
   "source": [
    "#output to csv\n",
    "dfall.to_csv ('Steps.csv', index = None)"
   ]
  }
 ],
 "metadata": {
  "kernelspec": {
   "display_name": "Python 3 (ipykernel)",
   "language": "python",
   "name": "python3"
  },
  "language_info": {
   "codemirror_mode": {
    "name": "ipython",
    "version": 3
   },
   "file_extension": ".py",
   "mimetype": "text/x-python",
   "name": "python",
   "nbconvert_exporter": "python",
   "pygments_lexer": "ipython3",
   "version": "3.9.7"
  }
 },
 "nbformat": 4,
 "nbformat_minor": 5
}
